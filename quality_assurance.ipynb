{
 "cells": [
  {
   "cell_type": "markdown",
   "metadata": {},
   "source": [
    "# Quality Assurance Calculations"
   ]
  },
  {
   "cell_type": "markdown",
   "metadata": {},
   "source": [
    "### To calculate the percentage increase / decrease"
   ]
  },
  {
   "cell_type": "code",
   "execution_count": 3,
   "metadata": {},
   "outputs": [
    {
     "name": "stdout",
     "output_type": "stream",
     "text": [
      "Change from last year = -895\n",
      "The percentage = -25.896990740740737\n"
     ]
    }
   ],
   "source": [
    "def percentage_inc_dec(this_year, last_year):\n",
    "    change = this_year - last_year\n",
    "    print(f'Change from last year = {change}')\n",
    "    percentage_increase_decrease = (change / last_year) * 100\n",
    "    return print(f'The percentage = {percentage_increase_decrease }')\n",
    "\n",
    "percentage_inc_dec(2561,3456)\n",
    "# dummy data"
   ]
  },
  {
   "cell_type": "markdown",
   "metadata": {},
   "source": [
    "### To calculate percentage proportion of each country (voluntary returns)"
   ]
  },
  {
   "cell_type": "code",
   "execution_count": 4,
   "metadata": {},
   "outputs": [
    {
     "data": {
      "text/plain": [
       "53.84879725085911"
      ]
     },
     "execution_count": 4,
     "metadata": {},
     "output_type": "execute_result"
    }
   ],
   "source": [
    "def country_proportion(total, proportion):\n",
    "    percentage_prop = (proportion / total) * 100\n",
    "    return percentage_prop\n",
    "\n",
    "total_voluntary = 2910\n",
    "country_voluntary = 1567\n",
    "# dummy data\n",
    "\n",
    "country_proportion(total_voluntary,country_voluntary)"
   ]
  },
  {
   "cell_type": "code",
   "execution_count": null,
   "metadata": {},
   "outputs": [],
   "source": []
  }
 ],
 "metadata": {
  "kernelspec": {
   "display_name": "Python 3",
   "language": "python",
   "name": "python3"
  },
  "language_info": {
   "codemirror_mode": {
    "name": "ipython",
    "version": 3
   },
   "file_extension": ".py",
   "mimetype": "text/x-python",
   "name": "python",
   "nbconvert_exporter": "python",
   "pygments_lexer": "ipython3",
   "version": "3.7.6"
  }
 },
 "nbformat": 4,
 "nbformat_minor": 4
}
