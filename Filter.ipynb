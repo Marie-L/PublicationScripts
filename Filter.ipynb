{
 "cells": [
  {
   "cell_type": "markdown",
   "metadata": {},
   "source": [
    "### Set up"
   ]
  },
  {
   "cell_type": "code",
   "execution_count": 1,
   "metadata": {},
   "outputs": [],
   "source": [
    "import pandas as pd"
   ]
  },
  {
   "cell_type": "code",
   "execution_count": 2,
   "metadata": {},
   "outputs": [],
   "source": [
    "import os"
   ]
  },
  {
   "cell_type": "code",
   "execution_count": 3,
   "metadata": {},
   "outputs": [
    {
     "data": {
      "text/plain": [
       "'/Users/marie-louise/Documents/sites/JupyterNotebooks/PublicationScripts'"
      ]
     },
     "execution_count": 3,
     "metadata": {},
     "output_type": "execute_result"
    }
   ],
   "source": [
    "os.getcwd()"
   ]
  },
  {
   "cell_type": "code",
   "execution_count": 4,
   "metadata": {},
   "outputs": [
    {
     "data": {
      "text/plain": [
       "['versicolor.csv',\n",
       " 'Excel_diff.xlsx',\n",
       " '.DS_Store',\n",
       " 'Untitled.ipynb',\n",
       " 'merge_csv.ipynb',\n",
       " 'setosa.csv',\n",
       " 'compareData.ipynb',\n",
       " '.gitignore',\n",
       " 'returns-datasets-sep-2020.xlsx',\n",
       " '.ipynb_checkpoints',\n",
       " 'test_merge.csv',\n",
       " '.git',\n",
       " '.idea']"
      ]
     },
     "execution_count": 4,
     "metadata": {},
     "output_type": "execute_result"
    }
   ],
   "source": [
    "os.listdir(os.getcwd())"
   ]
  },
  {
   "cell_type": "markdown",
   "metadata": {},
   "source": [
    "### Import file"
   ]
  },
  {
   "cell_type": "code",
   "execution_count": 6,
   "metadata": {},
   "outputs": [],
   "source": [
    "df = pd.read_excel(r'returns-datasets-sep-2020.xlsx',sheet_name='Data - Ret_D01')"
   ]
  },
  {
   "cell_type": "code",
   "execution_count": 7,
   "metadata": {},
   "outputs": [
    {
     "data": {
      "text/html": [
       "<div>\n",
       "<style scoped>\n",
       "    .dataframe tbody tr th:only-of-type {\n",
       "        vertical-align: middle;\n",
       "    }\n",
       "\n",
       "    .dataframe tbody tr th {\n",
       "        vertical-align: top;\n",
       "    }\n",
       "\n",
       "    .dataframe thead th {\n",
       "        text-align: right;\n",
       "    }\n",
       "</style>\n",
       "<table border=\"1\" class=\"dataframe\">\n",
       "  <thead>\n",
       "    <tr style=\"text-align: right;\">\n",
       "      <th></th>\n",
       "      <th>Year</th>\n",
       "      <th>Quarter</th>\n",
       "      <th>Nationality</th>\n",
       "      <th>Region</th>\n",
       "      <th>Return type group</th>\n",
       "      <th>Return type</th>\n",
       "      <th>Age</th>\n",
       "      <th>Sex</th>\n",
       "      <th>Return destination group</th>\n",
       "      <th>Number of returns</th>\n",
       "    </tr>\n",
       "  </thead>\n",
       "  <tbody>\n",
       "    <tr>\n",
       "      <th>0</th>\n",
       "      <td>2004</td>\n",
       "      <td>2004 Q1</td>\n",
       "      <td>Afghanistan</td>\n",
       "      <td>Asia Central</td>\n",
       "      <td>Enforced return</td>\n",
       "      <td>Enforced removals</td>\n",
       "      <td>Under 18</td>\n",
       "      <td>Male</td>\n",
       "      <td>EU Member State</td>\n",
       "      <td>6</td>\n",
       "    </tr>\n",
       "    <tr>\n",
       "      <th>1</th>\n",
       "      <td>2004</td>\n",
       "      <td>2004 Q1</td>\n",
       "      <td>Afghanistan</td>\n",
       "      <td>Asia Central</td>\n",
       "      <td>Enforced return</td>\n",
       "      <td>Enforced removals</td>\n",
       "      <td>Under 18</td>\n",
       "      <td>Male</td>\n",
       "      <td>Other country</td>\n",
       "      <td>1</td>\n",
       "    </tr>\n",
       "    <tr>\n",
       "      <th>2</th>\n",
       "      <td>2004</td>\n",
       "      <td>2004 Q1</td>\n",
       "      <td>Afghanistan</td>\n",
       "      <td>Asia Central</td>\n",
       "      <td>Enforced return</td>\n",
       "      <td>Enforced removals</td>\n",
       "      <td>18-29</td>\n",
       "      <td>Male</td>\n",
       "      <td>EU Member State</td>\n",
       "      <td>39</td>\n",
       "    </tr>\n",
       "    <tr>\n",
       "      <th>3</th>\n",
       "      <td>2004</td>\n",
       "      <td>2004 Q1</td>\n",
       "      <td>Afghanistan</td>\n",
       "      <td>Asia Central</td>\n",
       "      <td>Enforced return</td>\n",
       "      <td>Enforced removals</td>\n",
       "      <td>18-29</td>\n",
       "      <td>Male</td>\n",
       "      <td>Home country</td>\n",
       "      <td>38</td>\n",
       "    </tr>\n",
       "    <tr>\n",
       "      <th>4</th>\n",
       "      <td>2004</td>\n",
       "      <td>2004 Q1</td>\n",
       "      <td>Afghanistan</td>\n",
       "      <td>Asia Central</td>\n",
       "      <td>Enforced return</td>\n",
       "      <td>Enforced removals</td>\n",
       "      <td>18-29</td>\n",
       "      <td>Male</td>\n",
       "      <td>Other country</td>\n",
       "      <td>2</td>\n",
       "    </tr>\n",
       "    <tr>\n",
       "      <th>...</th>\n",
       "      <td>...</td>\n",
       "      <td>...</td>\n",
       "      <td>...</td>\n",
       "      <td>...</td>\n",
       "      <td>...</td>\n",
       "      <td>...</td>\n",
       "      <td>...</td>\n",
       "      <td>...</td>\n",
       "      <td>...</td>\n",
       "      <td>...</td>\n",
       "    </tr>\n",
       "    <tr>\n",
       "      <th>210897</th>\n",
       "      <td>2020</td>\n",
       "      <td>2020 Q2</td>\n",
       "      <td>Vanuatu</td>\n",
       "      <td>Oceania</td>\n",
       "      <td>Refused entry at port and subsequently departed</td>\n",
       "      <td>Departed from UK Ports</td>\n",
       "      <td>18-29</td>\n",
       "      <td>Male</td>\n",
       "      <td>Other country</td>\n",
       "      <td>1</td>\n",
       "    </tr>\n",
       "    <tr>\n",
       "      <th>210898</th>\n",
       "      <td>2020</td>\n",
       "      <td>2020 Q2</td>\n",
       "      <td>Vietnam</td>\n",
       "      <td>Asia South East</td>\n",
       "      <td>Refused entry at port and subsequently departed</td>\n",
       "      <td>Departed from Juxtaposed controls</td>\n",
       "      <td>Under 18</td>\n",
       "      <td>Male</td>\n",
       "      <td>EU Member State</td>\n",
       "      <td>4</td>\n",
       "    </tr>\n",
       "    <tr>\n",
       "      <th>210899</th>\n",
       "      <td>2020</td>\n",
       "      <td>2020 Q2</td>\n",
       "      <td>Vietnam</td>\n",
       "      <td>Asia South East</td>\n",
       "      <td>Refused entry at port and subsequently departed</td>\n",
       "      <td>Departed from UK Ports</td>\n",
       "      <td>30-49</td>\n",
       "      <td>Male</td>\n",
       "      <td>Other country</td>\n",
       "      <td>1</td>\n",
       "    </tr>\n",
       "    <tr>\n",
       "      <th>210900</th>\n",
       "      <td>2020</td>\n",
       "      <td>2020 Q2</td>\n",
       "      <td>Zimbabwe</td>\n",
       "      <td>Africa Sub-Saharan</td>\n",
       "      <td>Refused entry at port and subsequently departed</td>\n",
       "      <td>Departed from UK Ports</td>\n",
       "      <td>30-49</td>\n",
       "      <td>Female</td>\n",
       "      <td>EU Member State</td>\n",
       "      <td>1</td>\n",
       "    </tr>\n",
       "    <tr>\n",
       "      <th>210901</th>\n",
       "      <td>2020</td>\n",
       "      <td>2020 Q2</td>\n",
       "      <td>Zimbabwe</td>\n",
       "      <td>Africa Sub-Saharan</td>\n",
       "      <td>Voluntary return</td>\n",
       "      <td>Controlled returns</td>\n",
       "      <td>30-49</td>\n",
       "      <td>Female</td>\n",
       "      <td>Home country</td>\n",
       "      <td>1</td>\n",
       "    </tr>\n",
       "  </tbody>\n",
       "</table>\n",
       "<p>210902 rows × 10 columns</p>\n",
       "</div>"
      ],
      "text/plain": [
       "        Year  Quarter  Nationality              Region  \\\n",
       "0       2004  2004 Q1  Afghanistan        Asia Central   \n",
       "1       2004  2004 Q1  Afghanistan        Asia Central   \n",
       "2       2004  2004 Q1  Afghanistan        Asia Central   \n",
       "3       2004  2004 Q1  Afghanistan        Asia Central   \n",
       "4       2004  2004 Q1  Afghanistan        Asia Central   \n",
       "...      ...      ...          ...                 ...   \n",
       "210897  2020  2020 Q2      Vanuatu             Oceania   \n",
       "210898  2020  2020 Q2      Vietnam     Asia South East   \n",
       "210899  2020  2020 Q2      Vietnam     Asia South East   \n",
       "210900  2020  2020 Q2     Zimbabwe  Africa Sub-Saharan   \n",
       "210901  2020  2020 Q2     Zimbabwe  Africa Sub-Saharan   \n",
       "\n",
       "                                      Return type group  \\\n",
       "0                                       Enforced return   \n",
       "1                                       Enforced return   \n",
       "2                                       Enforced return   \n",
       "3                                       Enforced return   \n",
       "4                                       Enforced return   \n",
       "...                                                 ...   \n",
       "210897  Refused entry at port and subsequently departed   \n",
       "210898  Refused entry at port and subsequently departed   \n",
       "210899  Refused entry at port and subsequently departed   \n",
       "210900  Refused entry at port and subsequently departed   \n",
       "210901                                 Voluntary return   \n",
       "\n",
       "                              Return type       Age     Sex  \\\n",
       "0                       Enforced removals  Under 18    Male   \n",
       "1                       Enforced removals  Under 18    Male   \n",
       "2                       Enforced removals     18-29    Male   \n",
       "3                       Enforced removals     18-29    Male   \n",
       "4                       Enforced removals     18-29    Male   \n",
       "...                                   ...       ...     ...   \n",
       "210897             Departed from UK Ports     18-29    Male   \n",
       "210898  Departed from Juxtaposed controls  Under 18    Male   \n",
       "210899             Departed from UK Ports     30-49    Male   \n",
       "210900             Departed from UK Ports     30-49  Female   \n",
       "210901                 Controlled returns     30-49  Female   \n",
       "\n",
       "       Return destination group  Number of returns  \n",
       "0               EU Member State                  6  \n",
       "1                 Other country                  1  \n",
       "2               EU Member State                 39  \n",
       "3                  Home country                 38  \n",
       "4                 Other country                  2  \n",
       "...                         ...                ...  \n",
       "210897            Other country                  1  \n",
       "210898          EU Member State                  4  \n",
       "210899            Other country                  1  \n",
       "210900          EU Member State                  1  \n",
       "210901             Home country                  1  \n",
       "\n",
       "[210902 rows x 10 columns]"
      ]
     },
     "execution_count": 7,
     "metadata": {},
     "output_type": "execute_result"
    }
   ],
   "source": [
    "df"
   ]
  },
  {
   "cell_type": "code",
   "execution_count": 8,
   "metadata": {},
   "outputs": [
    {
     "data": {
      "text/plain": [
       "(210902, 10)"
      ]
     },
     "execution_count": 8,
     "metadata": {},
     "output_type": "execute_result"
    }
   ],
   "source": [
    "df.shape"
   ]
  },
  {
   "cell_type": "code",
   "execution_count": 9,
   "metadata": {},
   "outputs": [
    {
     "data": {
      "text/plain": [
       "Index(['Year', 'Quarter', 'Nationality', 'Region', 'Return type group',\n",
       "       'Return type', 'Age', 'Sex', 'Return destination group',\n",
       "       'Number of returns'],\n",
       "      dtype='object')"
      ]
     },
     "execution_count": 9,
     "metadata": {},
     "output_type": "execute_result"
    }
   ],
   "source": [
    "df.columns"
   ]
  },
  {
   "cell_type": "markdown",
   "metadata": {},
   "source": [
    "### Filter"
   ]
  },
  {
   "cell_type": "code",
   "execution_count": 12,
   "metadata": {},
   "outputs": [],
   "source": [
    "filt1 = df['Return type'] == 'Enforced removals'"
   ]
  },
  {
   "cell_type": "code",
   "execution_count": 15,
   "metadata": {},
   "outputs": [],
   "source": [
    "filt2 = df['Sex'] == 'Female'"
   ]
  },
  {
   "cell_type": "code",
   "execution_count": 16,
   "metadata": {},
   "outputs": [
    {
     "data": {
      "text/html": [
       "<div>\n",
       "<style scoped>\n",
       "    .dataframe tbody tr th:only-of-type {\n",
       "        vertical-align: middle;\n",
       "    }\n",
       "\n",
       "    .dataframe tbody tr th {\n",
       "        vertical-align: top;\n",
       "    }\n",
       "\n",
       "    .dataframe thead th {\n",
       "        text-align: right;\n",
       "    }\n",
       "</style>\n",
       "<table border=\"1\" class=\"dataframe\">\n",
       "  <thead>\n",
       "    <tr style=\"text-align: right;\">\n",
       "      <th></th>\n",
       "      <th>Year</th>\n",
       "      <th>Quarter</th>\n",
       "      <th>Nationality</th>\n",
       "      <th>Region</th>\n",
       "      <th>Return type group</th>\n",
       "      <th>Return type</th>\n",
       "      <th>Age</th>\n",
       "      <th>Sex</th>\n",
       "      <th>Return destination group</th>\n",
       "      <th>Number of returns</th>\n",
       "    </tr>\n",
       "  </thead>\n",
       "  <tbody>\n",
       "    <tr>\n",
       "      <th>5</th>\n",
       "      <td>2004</td>\n",
       "      <td>2004 Q1</td>\n",
       "      <td>Afghanistan</td>\n",
       "      <td>Asia Central</td>\n",
       "      <td>Enforced return</td>\n",
       "      <td>Enforced removals</td>\n",
       "      <td>18-29</td>\n",
       "      <td>Female</td>\n",
       "      <td>Other country</td>\n",
       "      <td>1</td>\n",
       "    </tr>\n",
       "    <tr>\n",
       "      <th>9</th>\n",
       "      <td>2004</td>\n",
       "      <td>2004 Q1</td>\n",
       "      <td>Afghanistan</td>\n",
       "      <td>Asia Central</td>\n",
       "      <td>Enforced return</td>\n",
       "      <td>Enforced removals</td>\n",
       "      <td>30-49</td>\n",
       "      <td>Female</td>\n",
       "      <td>Other country</td>\n",
       "      <td>1</td>\n",
       "    </tr>\n",
       "    <tr>\n",
       "      <th>29</th>\n",
       "      <td>2004</td>\n",
       "      <td>2004 Q1</td>\n",
       "      <td>Albania</td>\n",
       "      <td>Europe Other</td>\n",
       "      <td>Enforced return</td>\n",
       "      <td>Enforced removals</td>\n",
       "      <td>Under 18</td>\n",
       "      <td>Female</td>\n",
       "      <td>Home country</td>\n",
       "      <td>10</td>\n",
       "    </tr>\n",
       "    <tr>\n",
       "      <th>30</th>\n",
       "      <td>2004</td>\n",
       "      <td>2004 Q1</td>\n",
       "      <td>Albania</td>\n",
       "      <td>Europe Other</td>\n",
       "      <td>Enforced return</td>\n",
       "      <td>Enforced removals</td>\n",
       "      <td>Under 18</td>\n",
       "      <td>Female</td>\n",
       "      <td>Other country</td>\n",
       "      <td>4</td>\n",
       "    </tr>\n",
       "    <tr>\n",
       "      <th>34</th>\n",
       "      <td>2004</td>\n",
       "      <td>2004 Q1</td>\n",
       "      <td>Albania</td>\n",
       "      <td>Europe Other</td>\n",
       "      <td>Enforced return</td>\n",
       "      <td>Enforced removals</td>\n",
       "      <td>18-29</td>\n",
       "      <td>Female</td>\n",
       "      <td>Home country</td>\n",
       "      <td>14</td>\n",
       "    </tr>\n",
       "  </tbody>\n",
       "</table>\n",
       "</div>"
      ],
      "text/plain": [
       "    Year  Quarter  Nationality        Region Return type group  \\\n",
       "5   2004  2004 Q1  Afghanistan  Asia Central   Enforced return   \n",
       "9   2004  2004 Q1  Afghanistan  Asia Central   Enforced return   \n",
       "29  2004  2004 Q1      Albania  Europe Other   Enforced return   \n",
       "30  2004  2004 Q1      Albania  Europe Other   Enforced return   \n",
       "34  2004  2004 Q1      Albania  Europe Other   Enforced return   \n",
       "\n",
       "          Return type       Age     Sex Return destination group  \\\n",
       "5   Enforced removals     18-29  Female            Other country   \n",
       "9   Enforced removals     30-49  Female            Other country   \n",
       "29  Enforced removals  Under 18  Female             Home country   \n",
       "30  Enforced removals  Under 18  Female            Other country   \n",
       "34  Enforced removals     18-29  Female             Home country   \n",
       "\n",
       "    Number of returns  \n",
       "5                   1  \n",
       "9                   1  \n",
       "29                 10  \n",
       "30                  4  \n",
       "34                 14  "
      ]
     },
     "execution_count": 16,
     "metadata": {},
     "output_type": "execute_result"
    }
   ],
   "source": [
    "df.loc[filt1 & filt2].head()"
   ]
  },
  {
   "cell_type": "code",
   "execution_count": null,
   "metadata": {},
   "outputs": [],
   "source": [
    "# add date filter ( Oct to Dec )"
   ]
  },
  {
   "cell_type": "code",
   "execution_count": null,
   "metadata": {},
   "outputs": [],
   "source": [
    "# add date formater on two different columns"
   ]
  }
 ],
 "metadata": {
  "kernelspec": {
   "display_name": "Python 3",
   "language": "python",
   "name": "python3"
  },
  "language_info": {
   "codemirror_mode": {
    "name": "ipython",
    "version": 3
   },
   "file_extension": ".py",
   "mimetype": "text/x-python",
   "name": "python",
   "nbconvert_exporter": "python",
   "pygments_lexer": "ipython3",
   "version": "3.7.6"
  }
 },
 "nbformat": 4,
 "nbformat_minor": 4
}
